{
  "nbformat": 4,
  "nbformat_minor": 0,
  "metadata": {
    "colab": {
      "provenance": [],
      "authorship_tag": "ABX9TyOicrubN+oezSZr1NmaEgJZ",
      "include_colab_link": true
    },
    "kernelspec": {
      "name": "python3",
      "display_name": "Python 3"
    },
    "language_info": {
      "name": "python"
    }
  },
  "cells": [
    {
      "cell_type": "markdown",
      "metadata": {
        "id": "view-in-github",
        "colab_type": "text"
      },
      "source": [
        "<a href=\"https://colab.research.google.com/github/faragodian/Calculadora-Respuesta-Tumoral/blob/main/OP_Problema_1.ipynb\" target=\"_parent\"><img src=\"https://colab.research.google.com/assets/colab-badge.svg\" alt=\"Open In Colab\"/></a>"
      ]
    },
    {
      "cell_type": "markdown",
      "source": [
        "# Problema 1:\n",
        "**Automatización del cálculo de la respuesta en enfermedades tumorales**\n",
        "\n",
        "En enfermedades tumorales, como el mieloma, se mide el *componente monoclonal sérico* al diagnóstico (a) y posterior al tratamiento (b). La respuesta se calcula mediante la fórmula\n",
        "\n",
        "\\[\n",
        "(1 - a/b) * 100\n",
        "\\]\n",
        "\n",
        "y se clasifica en:\n",
        "\n",
        "**Completa:** si desaparece el componente.\n",
        "\n",
        "**Muy buena respuesta parcial:** disminución >90 %.\n",
        "\n",
        "**Respuesta parcial:** disminución >50 % y <90 %.\n",
        "\n",
        "**Sin respuesta:** disminución <50 %.\n",
        "\n",
        "En linfomas, el cociente es similar, pero basado en el múltiplo de los diámetros de las lesiones al diagnóstico y después del tratamiento."
      ],
      "metadata": {
        "id": "PyYGbyNl2SJM"
      }
    },
    {
      "cell_type": "code",
      "source": [
        "\"\"\"\n",
        "Clasificacion según el enunciado Problema 1 OP:\n",
        "  - Completa: si desaparece el componente (b=0)\n",
        "  - MBPR: >90% (o ≥90% si inclusivo=True)\n",
        "  - RP: >50% y <90% (o ≥50% y <90% si inclusivo=True)\n",
        "  - Sin respuesta: <50%\n",
        "   OJO! Añadimos 'Progresión' si respuesta_pct < 0.\n",
        "\"\"\"\n",
        "from dataclasses import dataclass\n",
        "from typing import Optional, Literal, List, Dict\n",
        "\n",
        "Disease = Literal[\"mieloma\", \"linfoma\", \"otro\"]\n",
        "\n",
        "@dataclass\n",
        "class ResponseResult:\n",
        "    enfermedad: Disease\n",
        "    a: float              # valor basal (diagnóstico)\n",
        "    b: float              # valor post-tratamiento\n",
        "    respuesta_pct: float  # porcentaje de disminución (positivo = mejora)\n",
        "    categoria: str\n",
        "    nota: Optional[str] = None\n",
        "\n",
        "def calcular_respuesta_porcentaje(a: float, b: float) -> float:\n",
        "    if a < 0 or b < 0:\n",
        "        raise ValueError(\"Los valores a y b deben ser no negativos.\")\n",
        "    if b == 0:\n",
        "        return 100.0\n",
        "    if a == 0:\n",
        "        return 100.0\n",
        "    return (1 - (a / b)) * 100.0\n",
        "\n",
        "def clasificar_respuesta(respuesta_pct: float, desaparece: bool,\n",
        "                         inclusivo: bool = True) -> str:\n",
        "    if desaparece:\n",
        "        return \"Completa\"\n",
        "    if respuesta_pct < 0:\n",
        "        return \"Progresión\"\n",
        "    if inclusivo:\n",
        "        if respuesta_pct >= 90:\n",
        "            return \"Muy buena respuesta parcial\"\n",
        "        if 50 <= respuesta_pct < 90:\n",
        "            return \"Respuesta parcial\"\n",
        "        return \"Sin respuesta\"\n",
        "    else:\n",
        "        if respuesta_pct > 90:\n",
        "            return \"Muy buena respuesta parcial\"\n",
        "        if 50 < respuesta_pct < 90:\n",
        "            return \"Respuesta parcial\"\n",
        "        return \"Sin respuesta\"\n",
        "\n",
        "def evaluar_respuesta(enfermedad: Disease, a: float, b: float,\n",
        "                      inclusivo: bool = True) -> ResponseResult:\n",
        "    nota = None\n",
        "    if a == 0:\n",
        "        nota = \"a=0 (valor basal nulo); porcentaje interpretado como 100%.\"\n",
        "    respuesta = calcular_respuesta_porcentaje(a, b)\n",
        "    categoria = clasificar_respuesta(respuesta, desaparece=(b == 0), inclusivo=inclusivo)\n",
        "    return ResponseResult(\n",
        "        enfermedad=enfermedad,\n",
        "        a=a,\n",
        "        b=b,\n",
        "        respuesta_pct=round(respuesta, 2),\n",
        "        categoria=categoria,\n",
        "        nota=nota\n",
        "    )\n",
        "\n",
        "\"\"\"\n",
        "Misma ratio a/b para mieloma (componente monoclonal) y linfoma (producto de diámetros).\n",
        "\"\"\"\n",
        "\n",
        "print(\"=== Evaluador de respuesta tumoral ===\")\n",
        "enfermedad = input(\"Tipo de enfermedad (mieloma / linfoma / otro): \").strip().lower()\n",
        "a = float(input(\"Valor basal (diagnóstico): \"))\n",
        "b = float(input(\"Valor post-tratamiento: \"))\n",
        "\n",
        "resultado = evaluar_respuesta(enfermedad, a, b)\n",
        "\n",
        "print(\"\\n--- RESULTADO ---\")\n",
        "print(f\"Enfermedad: {resultado.enfermedad}\")\n",
        "print(f\"Valor basal (a): {resultado.a}\")\n",
        "print(f\"Valor post-tratamiento (b): {resultado.b}\")\n",
        "print(f\"Disminución porcentual: {resultado.respuesta_pct}%\")\n",
        "print(f\"Clasificación: {resultado.categoria}\")\n",
        "if resultado.nota:\n",
        "    print(f\"Nota: {resultado.nota}\")\n"
      ],
      "metadata": {
        "colab": {
          "base_uri": "https://localhost:8080/"
        },
        "id": "1nAJ3K3A37xu",
        "outputId": "cc4bc5c6-2c0a-4a01-ca15-28ad6eb49243"
      },
      "execution_count": 3,
      "outputs": [
        {
          "output_type": "stream",
          "name": "stdout",
          "text": [
            "=== Evaluador de respuesta tumoral ===\n",
            "Tipo de enfermedad (mieloma / linfoma / otro): mieloma\n",
            "Valor basal (diagnóstico): 5\n",
            "Valor post-tratamiento: 4\n",
            "\n",
            "--- RESULTADO ---\n",
            "Enfermedad: mieloma\n",
            "Valor basal (a): 5.0\n",
            "Valor post-tratamiento (b): 4.0\n",
            "Disminución porcentual: -25.0%\n",
            "Clasificación: Progresión\n"
          ]
        }
      ]
    },
    {
      "cell_type": "code",
      "source": [],
      "metadata": {
        "id": "JX0k1nCKL-eG"
      },
      "execution_count": null,
      "outputs": []
    }
  ]
}